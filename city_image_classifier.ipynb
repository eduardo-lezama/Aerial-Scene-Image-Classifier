{
 "cells": [
  {
   "cell_type": "code",
   "execution_count": null,
   "metadata": {},
   "outputs": [
    {
     "data": {
      "text/plain": [
       "<torch._C.Generator at 0x7fd44875f990>"
      ]
     },
     "execution_count": 1,
     "metadata": {},
     "output_type": "execute_result"
    }
   ],
   "source": [
    "import os, torch, shutil, numpy as np\n",
    "from pathlib import Path()\n",
    "from glob import glob\n",
    "from PIL import Image\n",
    "from torch.utils.data import random_split, Dataset, DataLoader\n",
    "from torchvision import transforms as T\n",
    "torch.manual_seed(42)"
   ]
  },
  {
   "cell_type": "markdown",
   "metadata": {},
   "source": [
    "## Custom Datasets and DataLoaders "
   ]
  },
  {
   "cell_type": "code",
   "execution_count": null,
   "metadata": {},
   "outputs": [],
   "source": [
    "class MyDataset(Dataset):\n",
    "    def __init__(self, path, transformations=None):\n",
    "        #Apply img transformations\n",
    "        self.transformations = transformations\n",
    "        #Load all images in a path\n",
    "        self.img_paths = [im_path for im_path in sorted(glob(f\"{root}/*/*\"))]\n",
    "        #Dictionaries and counters for classes and count per class\n",
    "        self.class_names = {}\n",
    "        self.class_counts = {}\n",
    "        count = 0\n",
    "        data_count = 0\n",
    "\n",
    "        for idx, img_path in enumerate(self.img_paths):\n",
    "            #Get the class name\n",
    "            class_name = self.get_class(img_path)\n",
    "            #Check if the class exist already and if not appends it to the class name dict\n",
    "            if class_name not in self.class_names:\n",
    "                self.class_names[class_name] = count\n",
    "                self.class_counts[class_name] = 1\n",
    "                count += 1\n",
    "            #If it exist, increase the counter for that class\n",
    "            else:\n",
    "                self.class_counts[class_name] += 1\n",
    "\n",
    "\n",
    "\n",
    "    def get_class(self, path) -> str:\n",
    "        \"\"\"Return the name of the class based on its path\"\"\"\n",
    "        return os.path.dirname(path).split(\"/\")[-1]\n",
    "         "
   ]
  },
  {
   "cell_type": "code",
   "execution_count": null,
   "metadata": {},
   "outputs": [],
   "source": []
  }
 ],
 "metadata": {
  "kernelspec": {
   "display_name": "env_general",
   "language": "python",
   "name": "python3"
  },
  "language_info": {
   "codemirror_mode": {
    "name": "ipython",
    "version": 3
   },
   "file_extension": ".py",
   "mimetype": "text/x-python",
   "name": "python",
   "nbconvert_exporter": "python",
   "pygments_lexer": "ipython3",
   "version": "3.11.11"
  }
 },
 "nbformat": 4,
 "nbformat_minor": 2
}
